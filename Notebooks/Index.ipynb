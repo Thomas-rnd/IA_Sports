{
 "cells": [
  {
   "attachments": {},
   "cell_type": "markdown",
   "metadata": {},
   "source": [
    "# IA Sports Handbook\n",
    "\n",
    "![cover image](../Images/Logo.png)\n",
    "\n",
    "## Sommaire\n",
    "\n",
    "### [Partie A : Introduction](01_Introduction.ipynb)\n",
    "### [Partie B : Méthodologie et procédés d’analyse de la variabilité de la fréquence cardiaque]()\n",
    "#### [1. Analyse dans le domaine temporel]()\n",
    "- [Algorithme de Tompkins](02_TompkinsAglorithm.ipynb)\n",
    "- [Evaluation de l'indicateur RMSSD](03_RMSSD.ipynb)\n",
    "#### [2. Analyse dans le domaine fréquentiel]()\n",
    "- [Représentation fréquentielle d’un signal de variabilité cardiaque](04_HRV_fourier.ipynb)\n",
    "### [Partie C : Fiche d'entraînement](05_Fiche_d_entraînement.ipynb)\n",
    "\n",
    "## Bibliographie\n",
    "\n",
    "- [1] Al Haddad H, Laursen PB, Chollet D, Ahmaidi S, and Buchheit M. Reliability of resting and\n",
    "postexercise heart rate measures. International journal of sports medicine. 2011;32(8):598-605. \n",
    "- [2] Aubert AE, Seps B, and Beckers F. Heart rate variability in athletes. Sports medicine\n",
    "(Auckland, N.Z. 2003;33(12):889-919. \n",
    "- [3] Damien Saboul. Apports de la variabilité de la fréquence cardiaque dans l’évaluation de la charge\n",
    "d’entraînement et le suivi d’athlètes : aspects méthodologiques et applications pratiques. Médecine\n",
    "humaine et pathologie. Université Claude Bernard - Lyon I, 2013. Français. ffNNT : 2013LYO10083ff.\n",
    "fftel-01265039f\n",
    "- [4] Kiviniemi AM, Tulppo MP, Hautala AJ, Vanninen E, and Uusitalo ALT. Altered relationship\n",
    "between R-R interval and heart rate variability in overtrained endurance athletes. 17th\n",
    "Annual ECSS-Congress. Bruges; 2012.\n",
    "- [5] Saboul D, Pialoux V, and Hautier C. The breathing effect of the LF/HF ratio in the heart rate\n",
    "variability measurements of athletes. European Journal of Sport Science. in press. \n",
    "\n",
    "\n"
   ]
  }
 ],
 "metadata": {
  "kernelspec": {
   "display_name": "IA_Sports",
   "language": "python",
   "name": "python3"
  },
  "language_info": {
   "codemirror_mode": {
    "name": "ipython",
    "version": 3
   },
   "file_extension": ".py",
   "mimetype": "text/x-python",
   "name": "python",
   "nbconvert_exporter": "python",
   "pygments_lexer": "ipython3",
   "version": "3.9.13 (main, Oct 13 2022, 16:12:30) \n[Clang 12.0.0 ]"
  },
  "orig_nbformat": 4,
  "vscode": {
   "interpreter": {
    "hash": "9fbf9630d11b65f4b12a64db5ffa6735a1d4acc09183920c957c8a34e10d103d"
   }
  }
 },
 "nbformat": 4,
 "nbformat_minor": 2
}
