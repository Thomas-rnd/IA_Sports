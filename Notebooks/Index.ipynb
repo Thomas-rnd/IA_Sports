{
 "cells": [
  {
   "attachments": {},
   "cell_type": "markdown",
   "metadata": {},
   "source": [
    "# IA Sports Handbook\n",
    "\n",
    "![cover image](../Images/Logo.png)\n",
    "\n",
    "## Sommaire\n",
    "\n",
    "### [Partie A : Introduction](01_Introduction.ipynb)\n",
    "### [Partie B : Méthodologie et procédés d’analyse de la variabilité de la fréquence cardiaque]()\n",
    "#### [1. Analyse dans le domaine temporel]()\n",
    "- [Algorithme de Tompkins](02_TompkinsAlgorithm.ipynb)\n",
    "- [Evaluation de l'indicateur RMSSD](03_RMSSD.ipynb)\n",
    "#### [2. Analyse dans le domaine fréquentiel]()\n",
    "- [Représentation fréquentielle d’un signal de variabilité cardiaque](04_HRV_fourier.ipynb)\n",
    "### [Partie C : CONCLUSION GENERALE ET PERSPECTIVES ](01_Introduction.ipynb)"
   ]
  },
  {
   "cell_type": "code",
   "execution_count": 1,
   "metadata": {},
   "outputs": [
    {
     "name": "stdout",
     "output_type": "stream",
     "text": [
      "fin\n"
     ]
    }
   ],
   "source": [
    "print(\"fin\")"
   ]
  }
 ],
 "metadata": {
  "kernelspec": {
   "display_name": "IA_Sports",
   "language": "python",
   "name": "python3"
  },
  "language_info": {
   "codemirror_mode": {
    "name": "ipython",
    "version": 3
   },
   "file_extension": ".py",
   "mimetype": "text/x-python",
   "name": "python",
   "nbconvert_exporter": "python",
   "pygments_lexer": "ipython3",
   "version": "3.9.13 (main, Oct 13 2022, 16:12:30) \n[Clang 12.0.0 ]"
  },
  "orig_nbformat": 4,
  "vscode": {
   "interpreter": {
    "hash": "9fbf9630d11b65f4b12a64db5ffa6735a1d4acc09183920c957c8a34e10d103d"
   }
  }
 },
 "nbformat": 4,
 "nbformat_minor": 2
}
