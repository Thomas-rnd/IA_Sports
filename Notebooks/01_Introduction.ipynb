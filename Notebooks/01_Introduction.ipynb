{
 "cells": [
  {
   "attachments": {},
   "cell_type": "markdown",
   "metadata": {},
   "source": [
    "# Introduction"
   ]
  },
  {
   "attachments": {},
   "cell_type": "markdown",
   "metadata": {},
   "source": [
    "Ce travail de recherche a été réalisé lors d'un projet intitulé : \"Projet TransPromotion\" au sein de [l'Ecole Nationale Supérieure de Cognitique](https://ensc.bordeaux-inp.fr/fr). \n",
    "\n",
    "**Description courte** : Réalisation d’une méthode d’évaluation de l’état physiologique d’un coureur permettant l’optimisation de son programme d'entraînement.\n",
    "\n",
    "L’entraînement, qu’il soit pratiqué de façon aiguë ou à plus long terme, provoque inéluctablement des perturbations au niveau de l’activité du système nerveux autonome, qui, d’un point de vue de la variabilité cardiaque, se traduisent par une modulation de l’équilibre\n",
    "sympathovagale. Ainsi, les auteurs ont pu démontrer que l’utilisation des marqueurs de la variabilité cardiaque pouvait rendre compte de l’adaptation, positive ou négative, à un cycle d’entraînement de manière à aider l’entraîneur à individualiser la charge d’entraînement des\n",
    "athlètes en fonction du niveau de fatigue de chacun. L'analyse de la variabilité de la fréquence cardiaque, est considérée comme une technique non invasive donc pratique pour évaluer l’activité du système nerveux autonome d’un individu.\n",
    "\n",
    "Une faible variabilité cardiaque peut-être associé à des risques graves de mortalité quelque soit l'age de la personne. L'indice de faible variabilité cardiaque peut donc être considéré comme un indicateur d'un mauvais état de santé.\n",
    "\n",
    "Au sein de la littérature, nous pouvons remarquer qu’il existe trois domaines d’analyse, temporel, non-linéaire et fréquentiel, regroupant chacun plusieurs indices de la variabilité cardiaque. Nous allons nous inteerrésser à deux en particulier : \n",
    "\n",
    "- [Le ration LF/HF :](HRV_fourier.ipynb)\n",
    "- [RMSSD :](RMSSD.ipynb)\n",
    "\n",
    "#### Résumé : \n",
    "\n",
    "Le cœur est un organe contrôlé par notre Système Nerveux Autonome (SNA). La pompe cardiaque et en particulier la fréquence cardiaque est sous le double contrôle sympathique et parasympathique. A partir de ce centre (le bulbe rachidien), on déclenche la modulation du tonus sympathique (accélère le cœur) et ou parasympathique (ralentit le cœur).\n",
    "\n",
    "- Parasympathique [HF] : \n",
    "La variabilité du rythme cardiaque est sous contrôle de la fréquence respiratoire (environ 12/min, soit cycle d’environ 5s)\n",
    "L’influence se situe autour de 0,2Hz. Le contrôle est lié à la fréquence respiratoire liée à l’activité parasympathique.\n",
    "\n",
    "- Sympathique [LF] (Mayer waves) : \n",
    "Calé autour d’une fréquence de 0.1 Hz. Les vaisseaux sanguins périphériques s’ouvrent sous contrôle du sympathique à une période de 10s. \n",
    "\n",
    "Le ratio LF/HF (sans unité) représente la balance sympatho vagale de notre système nerveux autonome. Alors que RMSSD exprime la variabilité de haute fréquence principalement d’origine parasympathique, modulée par la respiration\n",
    "\n",
    "Le marqueur RMSSD est significativement plus élevé chez les athlètes comparativement aux sédentaires (respectivement 73,5±23,7 et 45,5±26,8 ms). Cette forte activité parasympathique est confirmée par les indices fréquentiels puisque les sédentaires présentent une plus faible énergie spectrale dans la bande des hautes fréquences par rapport à des coureurs spécialistes de l’endurance. Des différences apparaissent également en fonction du type d’entraînement puisque de plus grandes valeurs de RMSSD sont visibles chez les athlètes pratiquant des entraînements à dominante aérobie (l’entraînement aérobie est un type d’exercice peu intense, qui peut être maintenu pendant une période prolongée) comparativement à des athlètes issus d’une discipline à dominante anaérobie (l’entraînement en anaérobie s’illustre lors d’efforts courts, intenses et difficiles).\n",
    "\n",
    "Une surcharge d’entraînement induit de la fatigue et une baisse de la VFC. La période de récupération qui suit permet d’obtenir un phénomène de surcompensation qui amène l’athlète à un niveau d’aptitude supérieur à celui de départ. Selon plusieurs études sur la relation entre le surentraînement et les indices de la VFC, certains montrent une légère augmentation du ratio LF/HF, et d’autres concluent que la majorité des résultats entretiennent une confusion avec des études qui ne montrent pas de changement ou alors des modifications contradictoires de l’activité des branches sympathique et parasympathique.\n",
    "\n",
    "L’interprétation traditionnelle du ratio LF/HF est normalement inférieur à 1 lorsque le sujet est dans des conditions d’entraînement normales et devient supérieur à 1 lors d’une période de fatigue ou de surentraînement. Cependant, une interprétation fiable de cet indicateur est souvent oubliée dù à ça trop grande dépendance à la fréquence respiratoire durant sa mesure. Uniquement l'indicateur RMSSD est retenu, ce marqueur temporel subit une diminution lors de la phase de surentraînement d’un athlète et un retour aux valeurs de base à la suite d’une période de récupération.\n",
    "\n",
    "\n",
    "< [Index](Index.ipynb) | [Tomkins Algorithm](02_TompkinsAglorithm.ipynb)>"
   ]
  }
 ],
 "metadata": {
  "kernelspec": {
   "display_name": "IA_Sports",
   "language": "python",
   "name": "python3"
  },
  "language_info": {
   "codemirror_mode": {
    "name": "ipython",
    "version": 3
   },
   "file_extension": ".py",
   "mimetype": "text/x-python",
   "name": "python",
   "nbconvert_exporter": "python",
   "pygments_lexer": "ipython3",
   "version": "3.9.13"
  },
  "orig_nbformat": 4,
  "vscode": {
   "interpreter": {
    "hash": "9fbf9630d11b65f4b12a64db5ffa6735a1d4acc09183920c957c8a34e10d103d"
   }
  }
 },
 "nbformat": 4,
 "nbformat_minor": 2
}
